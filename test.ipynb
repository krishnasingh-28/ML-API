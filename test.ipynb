{
 "cells": [
  {
   "cell_type": "code",
   "execution_count": 1,
   "id": "e1feaa84",
   "metadata": {},
   "outputs": [],
   "source": [
    "import requests\n",
    "url = \"http://127.0.0.1:8000/predict\"\n",
    "payload = {\"size_sqft\":1000, \"bedrooms\":2}"
   ]
  },
  {
   "cell_type": "code",
   "execution_count": 2,
   "id": "5c914128",
   "metadata": {},
   "outputs": [],
   "source": [
    "response = requests.post(url, json = payload)"
   ]
  },
  {
   "cell_type": "code",
   "execution_count": 3,
   "id": "789b8c34",
   "metadata": {},
   "outputs": [
    {
     "data": {
      "text/plain": [
       "<Response [200]>"
      ]
     },
     "execution_count": 3,
     "metadata": {},
     "output_type": "execute_result"
    }
   ],
   "source": [
    "response"
   ]
  },
  {
   "cell_type": "code",
   "execution_count": 8,
   "id": "1602f4c0",
   "metadata": {},
   "outputs": [
    {
     "data": {
      "text/plain": [
       "{'predictes_price': -263791.6385695932}"
      ]
     },
     "execution_count": 8,
     "metadata": {},
     "output_type": "execute_result"
    }
   ],
   "source": [
    "response.json()"
   ]
  },
  {
   "cell_type": "code",
   "execution_count": 10,
   "id": "5aef131b",
   "metadata": {},
   "outputs": [],
   "source": [
    "url = \"http://127.0.0.1:8000/predict_batch\""
   ]
  },
  {
   "cell_type": "code",
   "execution_count": 12,
   "id": "52041554",
   "metadata": {},
   "outputs": [],
   "source": [
    "payload = {\n",
    "    \"houses\":[\n",
    "        {\"size_sqft\":2000, \"bedrooms\":3},\n",
    "        {\"size_sqft\":1500,\"bedrooms\":2},\n",
    "        {\"size_sqft\":3200,\"bedrooms\":5}\n",
    "    ]\n",
    "}"
   ]
  },
  {
   "cell_type": "code",
   "execution_count": 13,
   "id": "263ac6b8",
   "metadata": {},
   "outputs": [],
   "source": [
    "response = requests.post(url, json= payload )"
   ]
  },
  {
   "cell_type": "code",
   "execution_count": 14,
   "id": "dfe431b0",
   "metadata": {},
   "outputs": [
    {
     "data": {
      "text/plain": [
       "<Response [200]>"
      ]
     },
     "execution_count": 14,
     "metadata": {},
     "output_type": "execute_result"
    }
   ],
   "source": [
    "response"
   ]
  },
  {
   "cell_type": "code",
   "execution_count": 15,
   "id": "f0e42309",
   "metadata": {},
   "outputs": [
    {
     "data": {
      "text/plain": [
       "{'predicted_prices': [87489.49318349746,\n",
       "  -240015.08283457858,\n",
       "  752009.2675136556]}"
      ]
     },
     "execution_count": 15,
     "metadata": {},
     "output_type": "execute_result"
    }
   ],
   "source": [
    "response.json()"
   ]
  },
  {
   "cell_type": "code",
   "execution_count": null,
   "id": "67c28479",
   "metadata": {},
   "outputs": [],
   "source": []
  }
 ],
 "metadata": {
  "kernelspec": {
   "display_name": "Python 3",
   "language": "python",
   "name": "python3"
  },
  "language_info": {
   "codemirror_mode": {
    "name": "ipython",
    "version": 3
   },
   "file_extension": ".py",
   "mimetype": "text/x-python",
   "name": "python",
   "nbconvert_exporter": "python",
   "pygments_lexer": "ipython3",
   "version": "3.12.1"
  }
 },
 "nbformat": 4,
 "nbformat_minor": 5
}
